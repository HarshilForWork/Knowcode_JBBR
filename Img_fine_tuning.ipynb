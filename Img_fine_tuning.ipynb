{
 "cells": [
  {
   "cell_type": "code",
   "execution_count": 2,
   "metadata": {},
   "outputs": [
    {
     "data": {
      "application/vnd.jupyter.widget-view+json": {
       "model_id": "8800447db35f4cf4ac8cbbdfae2217ad",
       "version_major": 2,
       "version_minor": 0
      },
      "text/plain": [
       "Resolving data files:   0%|          | 0/22620 [00:00<?, ?it/s]"
      ]
     },
     "metadata": {},
     "output_type": "display_data"
    }
   ],
   "source": [
    "# Loading the data set\n",
    "from datasets import load_dataset\n",
    "ds = load_dataset(\"imagefolder\",data_dir='training_set')"
   ]
  },
  {
   "cell_type": "code",
   "execution_count": 3,
   "metadata": {},
   "outputs": [
    {
     "data": {
      "text/plain": [
       "12"
      ]
     },
     "execution_count": 3,
     "metadata": {},
     "output_type": "execute_result"
    }
   ],
   "source": [
    "data = ds[\"train\"].train_test_split(test_size=0.15)\n",
    "data[\"train\"][400][\"label\"]\n"
   ]
  },
  {
   "cell_type": "code",
   "execution_count": 4,
   "metadata": {},
   "outputs": [
    {
     "data": {
      "text/plain": [
       "ClassLabel(names=['Asian Green Bee-Eater', 'Brown-Headed Barbet', 'Cattle Egret', 'Common Kingfisher', 'Common Myna', 'Common Rosefinch', 'Common Tailorbird', 'Coppersmith Barbet', 'Forest Wagtail', 'Gray Wagtail', 'Hoopoe', 'House Crow', 'Indian Grey Hornbill', 'Indian Peacock', 'Indian Pitta', 'Indian Roller', 'Jungle Babbler', 'Northern Lapwing', 'Red-Wattled Lapwing', 'Ruddy Shelduck', 'Rufous Treepie', 'Sarus Crane', 'White Wagtail', 'White-Breasted Kingfisher', 'White-Breasted Waterhen'], id=None)"
      ]
     },
     "execution_count": 4,
     "metadata": {},
     "output_type": "execute_result"
    }
   ],
   "source": [
    "labels = data[\"train\"].features['label']\n",
    "labels"
   ]
  },
  {
   "cell_type": "code",
   "execution_count": 5,
   "metadata": {},
   "outputs": [
    {
     "data": {
      "text/plain": [
       "'Indian Grey Hornbill'"
      ]
     },
     "execution_count": 5,
     "metadata": {},
     "output_type": "execute_result"
    }
   ],
   "source": [
    "labels.int2str(data[\"train\"][400][\"label\"])"
   ]
  },
  {
   "cell_type": "code",
   "execution_count": 6,
   "metadata": {},
   "outputs": [
    {
     "name": "stderr",
     "output_type": "stream",
     "text": [
      "C:\\Users\\harsh\\AppData\\Local\\Temp\\ipykernel_6452\\3366162530.py:2: FutureWarning: load_metric is deprecated and will be removed in the next major version of datasets. Use 'evaluate.load' instead, from the new library 🤗 Evaluate: https://huggingface.co/docs/evaluate\n",
      "  metric = load_metric(\"accuracy\")\n",
      "c:\\PF\\Projects\\env\\Lib\\site-packages\\datasets\\load.py:759: FutureWarning: The repository for accuracy contains custom code which must be executed to correctly load the metric. You can inspect the repository content at https://raw.githubusercontent.com/huggingface/datasets/2.19.1/metrics/accuracy/accuracy.py\n",
      "You can avoid this message in future by passing the argument `trust_remote_code=True`.\n",
      "Passing `trust_remote_code=True` will be mandatory to load this metric from the next major release of `datasets`.\n",
      "  warnings.warn(\n"
     ]
    }
   ],
   "source": [
    "from datasets import load_metric\n",
    "metric = load_metric(\"accuracy\")"
   ]
  },
  {
   "cell_type": "code",
   "execution_count": null,
   "metadata": {},
   "outputs": [],
   "source": []
  },
  {
   "cell_type": "code",
   "execution_count": 41,
   "metadata": {},
   "outputs": [],
   "source": [
    "labels = data[\"train\"].features[\"label\"].names\n",
    "label2id,id2label =dict(),dict()\n",
    "for i,label in enumerate(labels):\n",
    "    label2id[label] = i\n",
    "    id2label[i]=label"
   ]
  },
  {
   "cell_type": "code",
   "execution_count": 8,
   "metadata": {},
   "outputs": [
    {
     "data": {
      "application/vnd.jupyter.widget-view+json": {
       "model_id": "3fac84bb1a13497fafee4fbbc5686f66",
       "version_major": 2,
       "version_minor": 0
      },
      "text/plain": [
       "VBox(children=(HTML(value='<center> <img\\nsrc=https://huggingface.co/front/assets/huggingface_logo-noborder.sv…"
      ]
     },
     "metadata": {},
     "output_type": "display_data"
    }
   ],
   "source": [
    "from huggingface_hub import notebook_login\n",
    "notebook_login()"
   ]
  },
  {
   "cell_type": "code",
   "execution_count": 9,
   "metadata": {},
   "outputs": [],
   "source": [
    "from transformers import AutoImageProcessor\n",
    "\n",
    "model_name_or_path =\"dennisjooo/Birds-Classifier-EfficientNetB2\"\n",
    "feature_extractor = AutoImageProcessor.from_pretrained(model_name_or_path)"
   ]
  },
  {
   "cell_type": "code",
   "execution_count": 10,
   "metadata": {},
   "outputs": [],
   "source": [
    "from torchvision.transforms import (\n",
    "    CenterCrop,\n",
    "    Compose,\n",
    "    Normalize,\n",
    "    RandomHorizontalFlip,\n",
    "    RandomResizedCrop,\n",
    "    Resize,\n",
    "    ToTensor,\n",
    ")\n",
    "from transformers import AutoImageProcessor\n",
    "\n",
    "model_name_or_path = \"dennisjooo/Birds-Classifier-EfficientNetB2\"\n",
    "feature_extractor = AutoImageProcessor.from_pretrained(model_name_or_path)\n",
    "\n",
    "# Use the size specified in the model name (224)\n",
    "image_size = 224\n",
    "\n",
    "normalize = Normalize(mean=feature_extractor.image_mean, std=feature_extractor.image_std)\n",
    "\n",
    "train_transforms = Compose(\n",
    "    [\n",
    "        RandomResizedCrop(image_size),\n",
    "        RandomHorizontalFlip(),\n",
    "        ToTensor(),\n",
    "        normalize,\n",
    "    ]\n",
    ")\n",
    "\n",
    "val_transforms = Compose(\n",
    "    [\n",
    "        Resize(image_size),\n",
    "        CenterCrop(image_size),\n",
    "        ToTensor(),\n",
    "        normalize,\n",
    "    ]\n",
    ")\n",
    "\n",
    "def preprocess_train(example_batch):\n",
    "    \"\"\"Apply train_transforms across a batch.\"\"\"\n",
    "    example_batch[\"pixel_values\"] = [\n",
    "        train_transforms(image.convert(\"RGB\")) for image in example_batch[\"image\"]\n",
    "    ]\n",
    "    return example_batch\n",
    "\n",
    "def preprocess_val(example_batch):\n",
    "    \"\"\"Apply val_transforms across a batch.\"\"\"\n",
    "    example_batch[\"pixel_values\"] = [\n",
    "        val_transforms(image.convert(\"RGB\")) for image in example_batch[\"image\"]\n",
    "    ]\n",
    "    return example_batch"
   ]
  },
  {
   "cell_type": "code",
   "execution_count": 11,
   "metadata": {},
   "outputs": [],
   "source": [
    "train_ds = data[\"train\"]\n",
    "val_ds = data[\"test\"]"
   ]
  },
  {
   "cell_type": "code",
   "execution_count": 12,
   "metadata": {},
   "outputs": [],
   "source": [
    "train_ds.set_transform(preprocess_train)\n",
    "val_ds.set_transform(preprocess_val)"
   ]
  },
  {
   "cell_type": "code",
   "execution_count": 14,
   "metadata": {},
   "outputs": [
    {
     "name": "stderr",
     "output_type": "stream",
     "text": [
      "Some weights of EfficientNetForImageClassification were not initialized from the model checkpoint at dennisjooo/Birds-Classifier-EfficientNetB2 and are newly initialized because the shapes did not match:\n",
      "- classifier.bias: found shape torch.Size([525]) in the checkpoint and torch.Size([25]) in the model instantiated\n",
      "- classifier.weight: found shape torch.Size([525, 1408]) in the checkpoint and torch.Size([25, 1408]) in the model instantiated\n",
      "You should probably TRAIN this model on a down-stream task to be able to use it for predictions and inference.\n"
     ]
    }
   ],
   "source": [
    "from transformers import AutoModelForImageClassification\n",
    "model_name_or_path = 'dennisjooo/Birds-Classifier-EfficientNetB2'\n",
    "model = AutoModelForImageClassification.from_pretrained(\n",
    "    model_name_or_path,\n",
    "    num_labels=len(labels),\n",
    "    id2label={str(i): labels[i] for i in range(len(labels))},\n",
    "    label2id={labels[i]: str(i) for i in range(len(labels))},\n",
    "    ignore_mismatched_sizes=True\n",
    ")"
   ]
  },
  {
   "cell_type": "code",
   "execution_count": 15,
   "metadata": {},
   "outputs": [
    {
     "name": "stderr",
     "output_type": "stream",
     "text": [
      "c:\\PF\\Projects\\env\\Lib\\site-packages\\transformers\\training_args.py:1545: FutureWarning: `evaluation_strategy` is deprecated and will be removed in version 4.46 of 🤗 Transformers. Use `eval_strategy` instead\n",
      "  warnings.warn(\n"
     ]
    }
   ],
   "source": [
    "from transformers import TrainingArguments\n",
    "\n",
    "training_args = TrainingArguments(\n",
    "    'finetuned-birds-classifier',  # Adjust the name to reflect your project\n",
    "    per_device_train_batch_size=16,  # Adjust if needed based on GPU memory\n",
    "    evaluation_strategy=\"steps\",  # Or \"epoch\" if you'd prefer end-of-epoch evaluation\n",
    "    num_train_epochs=4,\n",
    "    fp16=True,\n",
    "    save_steps=500,  # Adjust based on your dataset size\n",
    "    eval_steps=500,  # Adjust based on your dataset size\n",
    "    logging_steps=50,  # Adjust based on how often you want logging\n",
    "    learning_rate=2e-5,  # Lower the learning rate for fine-tuning\n",
    "    save_total_limit=2,\n",
    "    remove_unused_columns=False,\n",
    "    push_to_hub=False,  # Set to True if you want to push to Hugging Face Hub\n",
    "    report_to='tensorboard',  # Enable TensorBoard for logging\n",
    "    load_best_model_at_end=True,\n",
    "    hub_strategy=\"end\"  # Use \"every_save\" if you want intermediate saves to Hub\n",
    ")\n"
   ]
  },
  {
   "cell_type": "code",
   "execution_count": 17,
   "metadata": {},
   "outputs": [],
   "source": [
    "import numpy as np\n",
    "\n",
    "# the compute_metrics function takes a Named Tuple as input:\n",
    "# predictions, which are the logits of the model as Numpy arrays,\n",
    "# and label_ids, which are the ground-truth labels as Numpy arrays.\n",
    "def compute_metrics(eval_pred):\n",
    "    \"\"\"Computes accuracy on a batch of predictions\"\"\"\n",
    "    predictions = np.argmax(eval_pred.predictions, axis=1)\n",
    "    return metric.compute(predictions=predictions, references=eval_pred.label_ids)\n",
    "\n",
    "import torch\n",
    "\n",
    "def collate_fn(batch):\n",
    "    return {\n",
    "        'pixel_values': torch.stack([x['pixel_values'] for x in batch]),\n",
    "        'labels': torch.tensor([x['label'] for x in batch])\n",
    "    }\n",
    "\n",
    "from transformers import Trainer\n",
    "trainer = Trainer(\n",
    "    model,\n",
    "    training_args,\n",
    "    train_dataset=train_ds,\n",
    "    eval_dataset=val_ds,\n",
    "    tokenizer=feature_extractor,\n",
    "    compute_metrics=compute_metrics,\n",
    "    data_collator=collate_fn,\n",
    ")"
   ]
  },
  {
   "cell_type": "code",
   "execution_count": 18,
   "metadata": {},
   "outputs": [
    {
     "data": {
      "application/vnd.jupyter.widget-view+json": {
       "model_id": "90f52f42336e44bcadb7ea5f694e5cd7",
       "version_major": 2,
       "version_minor": 0
      },
      "text/plain": [
       "  0%|          | 0/4808 [00:00<?, ?it/s]"
      ]
     },
     "metadata": {},
     "output_type": "display_data"
    },
    {
     "name": "stdout",
     "output_type": "stream",
     "text": [
      "{'loss': 3.2895, 'grad_norm': 5.715845108032227, 'learning_rate': 1.979201331114809e-05, 'epoch': 0.04}\n",
      "{'loss': 3.2499, 'grad_norm': 5.686153411865234, 'learning_rate': 1.9584026622296175e-05, 'epoch': 0.08}\n",
      "{'loss': 3.1352, 'grad_norm': 5.594604015350342, 'learning_rate': 1.9376039933444262e-05, 'epoch': 0.12}\n",
      "{'loss': 3.0819, 'grad_norm': 5.311897277832031, 'learning_rate': 1.916805324459235e-05, 'epoch': 0.17}\n",
      "{'loss': 3.0072, 'grad_norm': 5.5024333000183105, 'learning_rate': 1.8960066555740436e-05, 'epoch': 0.21}\n",
      "{'loss': 2.9131, 'grad_norm': 5.361512660980225, 'learning_rate': 1.8752079866888523e-05, 'epoch': 0.25}\n",
      "{'loss': 2.858, 'grad_norm': 5.253929615020752, 'learning_rate': 1.8544093178036607e-05, 'epoch': 0.29}\n",
      "{'loss': 2.77, 'grad_norm': 5.410942077636719, 'learning_rate': 1.8336106489184694e-05, 'epoch': 0.33}\n",
      "{'loss': 2.6997, 'grad_norm': 5.648326396942139, 'learning_rate': 1.812811980033278e-05, 'epoch': 0.37}\n",
      "{'loss': 2.616, 'grad_norm': 5.3726935386657715, 'learning_rate': 1.7920133111480867e-05, 'epoch': 0.42}\n"
     ]
    },
    {
     "data": {
      "application/vnd.jupyter.widget-view+json": {
       "model_id": "e6bf1099262346f0b4655d79ae301641",
       "version_major": 2,
       "version_minor": 0
      },
      "text/plain": [
       "  0%|          | 0/425 [00:00<?, ?it/s]"
      ]
     },
     "metadata": {},
     "output_type": "display_data"
    },
    {
     "name": "stdout",
     "output_type": "stream",
     "text": [
      "{'eval_loss': 2.340571403503418, 'eval_accuracy': 0.5655761862658414, 'eval_runtime': 117.3046, 'eval_samples_per_second': 28.925, 'eval_steps_per_second': 3.623, 'epoch': 0.42}\n",
      "{'loss': 2.5459, 'grad_norm': 5.260122776031494, 'learning_rate': 1.7712146422628954e-05, 'epoch': 0.46}\n",
      "{'loss': 2.4942, 'grad_norm': 5.387138843536377, 'learning_rate': 1.750415973377704e-05, 'epoch': 0.5}\n",
      "{'loss': 2.4061, 'grad_norm': 5.292346477508545, 'learning_rate': 1.7296173044925125e-05, 'epoch': 0.54}\n",
      "{'loss': 2.3804, 'grad_norm': 5.237049102783203, 'learning_rate': 1.7088186356073212e-05, 'epoch': 0.58}\n",
      "{'loss': 2.2565, 'grad_norm': 5.329747676849365, 'learning_rate': 1.68801996672213e-05, 'epoch': 0.62}\n",
      "{'loss': 2.2161, 'grad_norm': 5.015501499176025, 'learning_rate': 1.6672212978369386e-05, 'epoch': 0.67}\n",
      "{'loss': 2.1249, 'grad_norm': 5.067910671234131, 'learning_rate': 1.6464226289517473e-05, 'epoch': 0.71}\n",
      "{'loss': 2.0471, 'grad_norm': 4.882927417755127, 'learning_rate': 1.625623960066556e-05, 'epoch': 0.75}\n",
      "{'loss': 2.0528, 'grad_norm': 4.989760875701904, 'learning_rate': 1.6048252911813643e-05, 'epoch': 0.79}\n",
      "{'loss': 2.0166, 'grad_norm': 5.341036319732666, 'learning_rate': 1.584026622296173e-05, 'epoch': 0.83}\n"
     ]
    },
    {
     "data": {
      "application/vnd.jupyter.widget-view+json": {
       "model_id": "61c612f4d053420ebd8d62e52a7bce52",
       "version_major": 2,
       "version_minor": 0
      },
      "text/plain": [
       "  0%|          | 0/425 [00:00<?, ?it/s]"
      ]
     },
     "metadata": {},
     "output_type": "display_data"
    },
    {
     "name": "stdout",
     "output_type": "stream",
     "text": [
      "{'eval_loss': 1.3812670707702637, 'eval_accuracy': 0.8116710875331565, 'eval_runtime': 115.4268, 'eval_samples_per_second': 29.395, 'eval_steps_per_second': 3.682, 'epoch': 0.83}\n",
      "{'loss': 1.8937, 'grad_norm': 4.616341590881348, 'learning_rate': 1.5632279534109817e-05, 'epoch': 0.87}\n",
      "{'loss': 1.8081, 'grad_norm': 4.65019416809082, 'learning_rate': 1.5424292845257904e-05, 'epoch': 0.92}\n",
      "{'loss': 1.837, 'grad_norm': 4.339442729949951, 'learning_rate': 1.521630615640599e-05, 'epoch': 0.96}\n",
      "{'loss': 1.7605, 'grad_norm': 4.869621276855469, 'learning_rate': 1.5008319467554078e-05, 'epoch': 1.0}\n",
      "{'loss': 1.7333, 'grad_norm': 4.59067440032959, 'learning_rate': 1.4800332778702165e-05, 'epoch': 1.04}\n",
      "{'loss': 1.6458, 'grad_norm': 4.358347415924072, 'learning_rate': 1.4592346089850251e-05, 'epoch': 1.08}\n",
      "{'loss': 1.6101, 'grad_norm': 4.07766056060791, 'learning_rate': 1.4384359400998338e-05, 'epoch': 1.12}\n",
      "{'loss': 1.6045, 'grad_norm': 4.061092376708984, 'learning_rate': 1.4176372712146425e-05, 'epoch': 1.16}\n",
      "{'loss': 1.5342, 'grad_norm': 4.347559928894043, 'learning_rate': 1.396838602329451e-05, 'epoch': 1.21}\n",
      "{'loss': 1.457, 'grad_norm': 4.351670742034912, 'learning_rate': 1.3760399334442597e-05, 'epoch': 1.25}\n"
     ]
    },
    {
     "data": {
      "application/vnd.jupyter.widget-view+json": {
       "model_id": "c9c150045e6c4145a39bfcdac1c900bb",
       "version_major": 2,
       "version_minor": 0
      },
      "text/plain": [
       "  0%|          | 0/425 [00:00<?, ?it/s]"
      ]
     },
     "metadata": {},
     "output_type": "display_data"
    },
    {
     "name": "stdout",
     "output_type": "stream",
     "text": [
      "{'eval_loss': 0.9184699654579163, 'eval_accuracy': 0.8558797524314765, 'eval_runtime': 95.2052, 'eval_samples_per_second': 35.639, 'eval_steps_per_second': 4.464, 'epoch': 1.25}\n",
      "{'loss': 1.4345, 'grad_norm': 4.356332778930664, 'learning_rate': 1.3552412645590683e-05, 'epoch': 1.29}\n",
      "{'loss': 1.4454, 'grad_norm': 3.9399092197418213, 'learning_rate': 1.334442595673877e-05, 'epoch': 1.33}\n",
      "{'loss': 1.4286, 'grad_norm': 5.080860137939453, 'learning_rate': 1.3136439267886857e-05, 'epoch': 1.37}\n",
      "{'loss': 1.3868, 'grad_norm': 4.4111833572387695, 'learning_rate': 1.2928452579034942e-05, 'epoch': 1.41}\n",
      "{'loss': 1.3235, 'grad_norm': 3.874986410140991, 'learning_rate': 1.2720465890183029e-05, 'epoch': 1.46}\n",
      "{'loss': 1.2852, 'grad_norm': 4.331636905670166, 'learning_rate': 1.2512479201331116e-05, 'epoch': 1.5}\n",
      "{'loss': 1.2866, 'grad_norm': 3.8445351123809814, 'learning_rate': 1.2304492512479203e-05, 'epoch': 1.54}\n",
      "{'loss': 1.2453, 'grad_norm': 3.381669521331787, 'learning_rate': 1.209650582362729e-05, 'epoch': 1.58}\n",
      "{'loss': 1.2641, 'grad_norm': 4.092008590698242, 'learning_rate': 1.1888519134775376e-05, 'epoch': 1.62}\n",
      "{'loss': 1.2403, 'grad_norm': 3.8161401748657227, 'learning_rate': 1.1680532445923463e-05, 'epoch': 1.66}\n"
     ]
    },
    {
     "data": {
      "application/vnd.jupyter.widget-view+json": {
       "model_id": "4fbbadebcde446fcb6484c5e7fd0064f",
       "version_major": 2,
       "version_minor": 0
      },
      "text/plain": [
       "  0%|          | 0/425 [00:00<?, ?it/s]"
      ]
     },
     "metadata": {},
     "output_type": "display_data"
    },
    {
     "name": "stdout",
     "output_type": "stream",
     "text": [
      "{'eval_loss': 0.6498614549636841, 'eval_accuracy': 0.8759210138520483, 'eval_runtime': 101.4642, 'eval_samples_per_second': 33.44, 'eval_steps_per_second': 4.189, 'epoch': 1.66}\n",
      "{'loss': 1.2514, 'grad_norm': 3.9603333473205566, 'learning_rate': 1.1472545757071549e-05, 'epoch': 1.71}\n",
      "{'loss': 1.1931, 'grad_norm': 3.6114754676818848, 'learning_rate': 1.1264559068219636e-05, 'epoch': 1.75}\n",
      "{'loss': 1.2638, 'grad_norm': 4.306796550750732, 'learning_rate': 1.1060732113144759e-05, 'epoch': 1.79}\n",
      "{'loss': 1.1442, 'grad_norm': 3.6319761276245117, 'learning_rate': 1.0852745424292845e-05, 'epoch': 1.83}\n",
      "{'loss': 1.1071, 'grad_norm': 3.06715989112854, 'learning_rate': 1.0644758735440932e-05, 'epoch': 1.87}\n",
      "{'loss': 1.1581, 'grad_norm': 2.7263710498809814, 'learning_rate': 1.043677204658902e-05, 'epoch': 1.91}\n",
      "{'loss': 1.1448, 'grad_norm': 3.700637102127075, 'learning_rate': 1.0228785357737106e-05, 'epoch': 1.96}\n",
      "{'loss': 1.1177, 'grad_norm': 4.383518218994141, 'learning_rate': 1.0020798668885191e-05, 'epoch': 2.0}\n",
      "{'loss': 1.1542, 'grad_norm': 3.9879534244537354, 'learning_rate': 9.812811980033278e-06, 'epoch': 2.04}\n",
      "{'loss': 1.1047, 'grad_norm': 3.218578815460205, 'learning_rate': 9.604825291181365e-06, 'epoch': 2.08}\n"
     ]
    },
    {
     "data": {
      "application/vnd.jupyter.widget-view+json": {
       "model_id": "110afbb6949b465ab8ad4a1d6ef76a5f",
       "version_major": 2,
       "version_minor": 0
      },
      "text/plain": [
       "  0%|          | 0/425 [00:00<?, ?it/s]"
      ]
     },
     "metadata": {},
     "output_type": "display_data"
    },
    {
     "name": "stdout",
     "output_type": "stream",
     "text": [
      "{'eval_loss': 0.5274711847305298, 'eval_accuracy': 0.8880047155909225, 'eval_runtime': 109.9255, 'eval_samples_per_second': 30.866, 'eval_steps_per_second': 3.866, 'epoch': 2.08}\n",
      "{'loss': 1.1108, 'grad_norm': 3.1071441173553467, 'learning_rate': 9.396838602329452e-06, 'epoch': 2.12}\n",
      "{'loss': 1.0784, 'grad_norm': 3.50714373588562, 'learning_rate': 9.188851913477537e-06, 'epoch': 2.16}\n",
      "{'loss': 1.0658, 'grad_norm': 3.481801748275757, 'learning_rate': 8.980865224625624e-06, 'epoch': 2.2}\n",
      "{'loss': 1.0452, 'grad_norm': 4.287207126617432, 'learning_rate': 8.772878535773711e-06, 'epoch': 2.25}\n",
      "{'loss': 1.0862, 'grad_norm': 2.2700164318084717, 'learning_rate': 8.564891846921798e-06, 'epoch': 2.29}\n",
      "{'loss': 1.033, 'grad_norm': 3.1529715061187744, 'learning_rate': 8.356905158069885e-06, 'epoch': 2.33}\n",
      "{'loss': 1.0304, 'grad_norm': 3.15116548538208, 'learning_rate': 8.148918469217972e-06, 'epoch': 2.37}\n",
      "{'loss': 1.0252, 'grad_norm': 3.4402401447296143, 'learning_rate': 7.940931780366057e-06, 'epoch': 2.41}\n",
      "{'loss': 0.9842, 'grad_norm': 3.0043365955352783, 'learning_rate': 7.732945091514144e-06, 'epoch': 2.45}\n",
      "{'loss': 1.0541, 'grad_norm': 3.458205223083496, 'learning_rate': 7.52495840266223e-06, 'epoch': 2.5}\n"
     ]
    },
    {
     "data": {
      "application/vnd.jupyter.widget-view+json": {
       "model_id": "7bc4e14e006b46dc9eb2aa7c33e0feb8",
       "version_major": 2,
       "version_minor": 0
      },
      "text/plain": [
       "  0%|          | 0/425 [00:00<?, ?it/s]"
      ]
     },
     "metadata": {},
     "output_type": "display_data"
    },
    {
     "name": "stdout",
     "output_type": "stream",
     "text": [
      "{'eval_loss': 0.48591679334640503, 'eval_accuracy': 0.9000884173297966, 'eval_runtime': 113.4349, 'eval_samples_per_second': 29.911, 'eval_steps_per_second': 3.747, 'epoch': 2.5}\n",
      "{'loss': 1.0161, 'grad_norm': 3.539557695388794, 'learning_rate': 7.316971713810317e-06, 'epoch': 2.54}\n",
      "{'loss': 0.9938, 'grad_norm': 3.04902982711792, 'learning_rate': 7.108985024958403e-06, 'epoch': 2.58}\n",
      "{'loss': 0.9937, 'grad_norm': 3.394489049911499, 'learning_rate': 6.90099833610649e-06, 'epoch': 2.62}\n",
      "{'loss': 0.9629, 'grad_norm': 3.489956855773926, 'learning_rate': 6.6930116472545755e-06, 'epoch': 2.66}\n",
      "{'loss': 0.9789, 'grad_norm': 1.8263814449310303, 'learning_rate': 6.485024958402662e-06, 'epoch': 2.7}\n",
      "{'loss': 0.9891, 'grad_norm': 2.7548229694366455, 'learning_rate': 6.277038269550749e-06, 'epoch': 2.75}\n",
      "{'loss': 0.9605, 'grad_norm': 3.6191680431365967, 'learning_rate': 6.069051580698836e-06, 'epoch': 2.79}\n",
      "{'loss': 0.9575, 'grad_norm': 2.686821937561035, 'learning_rate': 5.861064891846922e-06, 'epoch': 2.83}\n",
      "{'loss': 0.9785, 'grad_norm': 3.1729211807250977, 'learning_rate': 5.653078202995009e-06, 'epoch': 2.87}\n",
      "{'loss': 0.9767, 'grad_norm': 3.4041011333465576, 'learning_rate': 5.445091514143095e-06, 'epoch': 2.91}\n"
     ]
    },
    {
     "data": {
      "application/vnd.jupyter.widget-view+json": {
       "model_id": "b02afea18d9a4c4991e9dcbf944dd953",
       "version_major": 2,
       "version_minor": 0
      },
      "text/plain": [
       "  0%|          | 0/425 [00:00<?, ?it/s]"
      ]
     },
     "metadata": {},
     "output_type": "display_data"
    },
    {
     "name": "stdout",
     "output_type": "stream",
     "text": [
      "{'eval_loss': 0.4659765362739563, 'eval_accuracy': 0.8912466843501327, 'eval_runtime': 95.2831, 'eval_samples_per_second': 35.61, 'eval_steps_per_second': 4.46, 'epoch': 2.91}\n",
      "{'loss': 0.9658, 'grad_norm': 3.209306240081787, 'learning_rate': 5.237104825291181e-06, 'epoch': 2.95}\n",
      "{'loss': 0.9958, 'grad_norm': 2.9743523597717285, 'learning_rate': 5.029118136439268e-06, 'epoch': 3.0}\n",
      "{'loss': 0.9595, 'grad_norm': 3.174795627593994, 'learning_rate': 4.821131447587355e-06, 'epoch': 3.04}\n",
      "{'loss': 0.9679, 'grad_norm': 3.3084464073181152, 'learning_rate': 4.613144758735441e-06, 'epoch': 3.08}\n",
      "{'loss': 0.9595, 'grad_norm': 3.7894246578216553, 'learning_rate': 4.405158069883527e-06, 'epoch': 3.12}\n",
      "{'loss': 0.9417, 'grad_norm': 3.385998010635376, 'learning_rate': 4.201331114808653e-06, 'epoch': 3.16}\n",
      "{'loss': 0.9332, 'grad_norm': 4.913998603820801, 'learning_rate': 3.993344425956739e-06, 'epoch': 3.2}\n",
      "{'loss': 0.8914, 'grad_norm': 3.020223379135132, 'learning_rate': 3.7853577371048255e-06, 'epoch': 3.24}\n",
      "{'loss': 0.8606, 'grad_norm': 3.46864652633667, 'learning_rate': 3.5773710482529124e-06, 'epoch': 3.29}\n",
      "{'loss': 0.887, 'grad_norm': 3.459179639816284, 'learning_rate': 3.3693843594009985e-06, 'epoch': 3.33}\n"
     ]
    },
    {
     "data": {
      "application/vnd.jupyter.widget-view+json": {
       "model_id": "d26e8db9963b4944a6bc0d17aae429d8",
       "version_major": 2,
       "version_minor": 0
      },
      "text/plain": [
       "  0%|          | 0/425 [00:00<?, ?it/s]"
      ]
     },
     "metadata": {},
     "output_type": "display_data"
    },
    {
     "name": "stdout",
     "output_type": "stream",
     "text": [
      "{'eval_loss': 0.3981543183326721, 'eval_accuracy': 0.9048040082522841, 'eval_runtime': 96.8626, 'eval_samples_per_second': 35.029, 'eval_steps_per_second': 4.388, 'epoch': 3.33}\n",
      "{'loss': 0.9189, 'grad_norm': 3.302363634109497, 'learning_rate': 3.161397670549085e-06, 'epoch': 3.37}\n",
      "{'loss': 0.905, 'grad_norm': 3.0125815868377686, 'learning_rate': 2.953410981697172e-06, 'epoch': 3.41}\n",
      "{'loss': 0.9176, 'grad_norm': 4.144485950469971, 'learning_rate': 2.745424292845258e-06, 'epoch': 3.45}\n",
      "{'loss': 0.9093, 'grad_norm': 2.905592918395996, 'learning_rate': 2.5374376039933445e-06, 'epoch': 3.49}\n",
      "{'loss': 0.9357, 'grad_norm': 2.771632194519043, 'learning_rate': 2.329450915141431e-06, 'epoch': 3.54}\n",
      "{'loss': 0.9394, 'grad_norm': 3.7897040843963623, 'learning_rate': 2.1214642262895175e-06, 'epoch': 3.58}\n",
      "{'loss': 0.9628, 'grad_norm': 3.993272542953491, 'learning_rate': 1.913477537437604e-06, 'epoch': 3.62}\n",
      "{'loss': 0.8664, 'grad_norm': 1.8706133365631104, 'learning_rate': 1.7054908485856905e-06, 'epoch': 3.66}\n",
      "{'loss': 0.9234, 'grad_norm': 3.4658665657043457, 'learning_rate': 1.4975041597337772e-06, 'epoch': 3.7}\n",
      "{'loss': 0.9069, 'grad_norm': 3.963676929473877, 'learning_rate': 1.2895174708818635e-06, 'epoch': 3.74}\n"
     ]
    },
    {
     "data": {
      "application/vnd.jupyter.widget-view+json": {
       "model_id": "420b9f6010ee4bb690a5a18b8bb56eff",
       "version_major": 2,
       "version_minor": 0
      },
      "text/plain": [
       "  0%|          | 0/425 [00:00<?, ?it/s]"
      ]
     },
     "metadata": {},
     "output_type": "display_data"
    },
    {
     "name": "stdout",
     "output_type": "stream",
     "text": [
      "{'eval_loss': 0.3991778492927551, 'eval_accuracy': 0.9030356616563513, 'eval_runtime': 94.5027, 'eval_samples_per_second': 35.904, 'eval_steps_per_second': 4.497, 'epoch': 3.74}\n",
      "{'loss': 0.8987, 'grad_norm': 2.7835891246795654, 'learning_rate': 1.0815307820299502e-06, 'epoch': 3.79}\n",
      "{'loss': 0.9815, 'grad_norm': 3.472989797592163, 'learning_rate': 8.735440931780367e-07, 'epoch': 3.83}\n",
      "{'loss': 0.8762, 'grad_norm': 2.797670364379883, 'learning_rate': 6.655574043261231e-07, 'epoch': 3.87}\n",
      "{'loss': 0.9524, 'grad_norm': 3.567248582839966, 'learning_rate': 4.575707154742097e-07, 'epoch': 3.91}\n",
      "{'loss': 0.9202, 'grad_norm': 2.5983433723449707, 'learning_rate': 2.495840266222962e-07, 'epoch': 3.95}\n",
      "{'loss': 0.9054, 'grad_norm': 4.204604148864746, 'learning_rate': 4.1597337770382696e-08, 'epoch': 3.99}\n",
      "{'train_runtime': 3066.732, 'train_samples_per_second': 25.078, 'train_steps_per_second': 1.568, 'train_loss': 1.441121276424649, 'epoch': 4.0}\n",
      "***** train metrics *****\n",
      "  epoch                    =         4.0\n",
      "  total_flos               = 500459508GF\n",
      "  train_loss               =      1.4411\n",
      "  train_runtime            =  0:51:06.73\n",
      "  train_samples_per_second =      25.078\n",
      "  train_steps_per_second   =       1.568\n"
     ]
    }
   ],
   "source": [
    "train_results = trainer.train()\n",
    "# rest is optional but nice to have\n",
    "trainer.save_model()\n",
    "trainer.log_metrics(\"train\", train_results.metrics)\n",
    "trainer.save_metrics(\"train\", train_results.metrics)\n",
    "trainer.save_state()"
   ]
  },
  {
   "cell_type": "code",
   "execution_count": 19,
   "metadata": {},
   "outputs": [
    {
     "data": {
      "application/vnd.jupyter.widget-view+json": {
       "model_id": "b51ec35aa82e4d4cbcf640ab8c2bdf72",
       "version_major": 2,
       "version_minor": 0
      },
      "text/plain": [
       "  0%|          | 0/425 [00:00<?, ?it/s]"
      ]
     },
     "metadata": {},
     "output_type": "display_data"
    },
    {
     "name": "stdout",
     "output_type": "stream",
     "text": [
      "***** eval metrics *****\n",
      "  epoch                   =        4.0\n",
      "  eval_accuracy           =     0.9048\n",
      "  eval_loss               =     0.3982\n",
      "  eval_runtime            = 0:02:02.00\n",
      "  eval_samples_per_second =     27.811\n",
      "  eval_steps_per_second   =      3.484\n"
     ]
    }
   ],
   "source": [
    "metrics = trainer.evaluate()\n",
    "trainer.log_metrics(\"eval\", metrics)\n",
    "trainer.save_metrics(\"eval\", metrics)"
   ]
  },
  {
   "cell_type": "code",
   "execution_count": 34,
   "metadata": {},
   "outputs": [],
   "source": [
    "import torch\n",
    "import torch.nn as nn\n",
    "num_total_classes = 550\n",
    "\n",
    "# Assuming you have a pre-existing model with an initial classifier\n",
    "# Save the original weights and bias\n",
    "original_weights = model.classifier.weight.data\n",
    "original_bias = model.classifier.bias.data\n",
    "\n",
    "# Create a new classifier with the total number of classes\n",
    "model.classifier = nn.Linear(model.classifier.in_features, num_total_classes)\n",
    "\n",
    "# Initialize the new classifier\n",
    "with torch.no_grad():\n",
    "    # Copy the original weights to the top part of the new weight matrix\n",
    "    model.classifier.weight.data[:original_weights.shape[0]] = original_weights\n",
    "    model.classifier.bias.data[:original_bias.shape[0]] = original_bias\n",
    "\n",
    "    # Optionally, you can initialize the new additional weights \n",
    "    # For example, with small random values\n",
    "    torch.nn.init.xavier_uniform_(model.classifier.weight.data[original_weights.shape[0]:])\n",
    "    torch.nn.init.zeros_(model.classifier.bias.data[original_bias.shape[0]:])"
   ]
  },
  {
   "cell_type": "code",
   "execution_count": 35,
   "metadata": {},
   "outputs": [],
   "source": [
    "model.save_pretrained('finetuned-birds-classifier-550-species')\n"
   ]
  },
  {
   "cell_type": "code",
   "execution_count": 42,
   "metadata": {},
   "outputs": [
    {
     "name": "stdout",
     "output_type": "stream",
     "text": [
      "Predicted label: Class_157\n"
     ]
    }
   ],
   "source": [
    "import torch \n",
    "import requests \n",
    "from torchvision import transforms \n",
    "from io import BytesIO \n",
    "from PIL import Image \n",
    "\n",
    "# Determine the device\n",
    "device = torch.device(\"cuda\" if torch.cuda.is_available() else \"cpu\")\n",
    "\n",
    "# Define transformations for the input image \n",
    "transform = transforms.Compose([ \n",
    "    transforms.Resize((224, 224)),  # Resize to match model's requirement \n",
    "    transforms.ToTensor(),  # Convert image to tensor \n",
    "    transforms.Normalize(mean=[0.485, 0.456, 0.406], std=[0.229, 0.224, 0.225])  # Normalize \n",
    "]) \n",
    "\n",
    "# Example of applying the transformation to a single image \n",
    "response = requests.get(\"https://cdn.britannica.com/03/137403-050-C20EC0B7/Little-owl.jpg\") \n",
    "image = Image.open(BytesIO(response.content)).convert(\"RGB\")  # Open image and ensure it's in RGB format \n",
    "input_tensor = transform(image).unsqueeze(0)  # Add batch dimension \n",
    "\n",
    "# Move input tensor to the same device as the model\n",
    "input_tensor = input_tensor.to(device)\n",
    "\n",
    "# Move model to the appropriate device\n",
    "model = model.to(device)\n",
    "\n",
    "# Ensure correct data type (optional, depends on model)\n",
    "input_tensor = input_tensor.half()  # or .half() if model supports it\n",
    "\n",
    "model.eval() \n",
    "with torch.no_grad(): \n",
    "    outputs = model(input_tensor) \n",
    "    logits = outputs.logits \n",
    "    predicted_class = torch.argmax(logits, dim=-1).item() \n",
    "    predicted_label = model.config.id2label[predicted_class] \n",
    "    print(f\"Predicted label: {predicted_label}\")"
   ]
  },
  {
   "cell_type": "code",
   "execution_count": 43,
   "metadata": {},
   "outputs": [
    {
     "data": {
      "application/vnd.jupyter.widget-view+json": {
       "model_id": "0b3f8517f1ba48dda94d8dadeb84d762",
       "version_major": 2,
       "version_minor": 0
      },
      "text/plain": [
       "Resolving data files:   0%|          | 0/22620 [00:00<?, ?it/s]"
      ]
     },
     "metadata": {},
     "output_type": "display_data"
    },
    {
     "name": "stderr",
     "output_type": "stream",
     "text": [
      "Some weights of EfficientNetForImageClassification were not initialized from the model checkpoint at dennisjooo/Birds-Classifier-EfficientNetB2 and are newly initialized because the shapes did not match:\n",
      "- classifier.bias: found shape torch.Size([525]) in the checkpoint and torch.Size([550]) in the model instantiated\n",
      "- classifier.weight: found shape torch.Size([525, 1408]) in the checkpoint and torch.Size([550, 1408]) in the model instantiated\n",
      "You should probably TRAIN this model on a down-stream task to be able to use it for predictions and inference.\n",
      "c:\\PF\\Projects\\env\\Lib\\site-packages\\transformers\\training_args.py:1545: FutureWarning: `evaluation_strategy` is deprecated and will be removed in version 4.46 of 🤗 Transformers. Use `eval_strategy` instead\n",
      "  warnings.warn(\n"
     ]
    },
    {
     "data": {
      "application/vnd.jupyter.widget-view+json": {
       "model_id": "8add4943e1c34f4282ec2bf1a57de4dd",
       "version_major": 2,
       "version_minor": 0
      },
      "text/plain": [
       "  0%|          | 0/4808 [00:00<?, ?it/s]"
      ]
     },
     "metadata": {},
     "output_type": "display_data"
    },
    {
     "name": "stdout",
     "output_type": "stream",
     "text": [
      "{'loss': 6.4797, 'grad_norm': 5.529053688049316, 'learning_rate': 1.979201331114809e-05, 'epoch': 0.04}\n",
      "{'loss': 6.1483, 'grad_norm': 5.910373210906982, 'learning_rate': 1.9584026622296175e-05, 'epoch': 0.08}\n",
      "{'loss': 5.837, 'grad_norm': 5.76523494720459, 'learning_rate': 1.9376039933444262e-05, 'epoch': 0.12}\n",
      "{'loss': 5.5265, 'grad_norm': 5.570156574249268, 'learning_rate': 1.916805324459235e-05, 'epoch': 0.17}\n",
      "{'loss': 5.1939, 'grad_norm': 5.660665035247803, 'learning_rate': 1.8960066555740436e-05, 'epoch': 0.21}\n",
      "{'loss': 4.8835, 'grad_norm': 5.580504417419434, 'learning_rate': 1.8752079866888523e-05, 'epoch': 0.25}\n",
      "{'loss': 4.6051, 'grad_norm': 5.871239185333252, 'learning_rate': 1.8544093178036607e-05, 'epoch': 0.29}\n",
      "{'loss': 4.3183, 'grad_norm': 5.946713447570801, 'learning_rate': 1.8336106489184694e-05, 'epoch': 0.33}\n",
      "{'loss': 4.0749, 'grad_norm': 5.71154260635376, 'learning_rate': 1.812811980033278e-05, 'epoch': 0.37}\n",
      "{'loss': 3.8716, 'grad_norm': 5.569149494171143, 'learning_rate': 1.7920133111480867e-05, 'epoch': 0.42}\n"
     ]
    },
    {
     "data": {
      "application/vnd.jupyter.widget-view+json": {
       "model_id": "9a6bd343d21c4d9d85ad90392619b2fe",
       "version_major": 2,
       "version_minor": 0
      },
      "text/plain": [
       "  0%|          | 0/425 [00:00<?, ?it/s]"
      ]
     },
     "metadata": {},
     "output_type": "display_data"
    },
    {
     "name": "stdout",
     "output_type": "stream",
     "text": [
      "{'eval_loss': 3.106473207473755, 'eval_accuracy': 0.4005305039787798, 'eval_runtime': 109.6372, 'eval_samples_per_second': 30.948, 'eval_steps_per_second': 3.876, 'epoch': 0.42}\n",
      "{'loss': 3.6382, 'grad_norm': 5.796225547790527, 'learning_rate': 1.7712146422628954e-05, 'epoch': 0.46}\n",
      "{'loss': 3.4844, 'grad_norm': 5.8418426513671875, 'learning_rate': 1.750415973377704e-05, 'epoch': 0.5}\n",
      "{'loss': 3.3146, 'grad_norm': 5.7000508308410645, 'learning_rate': 1.7296173044925125e-05, 'epoch': 0.54}\n",
      "{'loss': 3.1908, 'grad_norm': 5.804255485534668, 'learning_rate': 1.7088186356073212e-05, 'epoch': 0.58}\n",
      "{'loss': 3.0571, 'grad_norm': 5.595107555389404, 'learning_rate': 1.68801996672213e-05, 'epoch': 0.62}\n",
      "{'loss': 2.9234, 'grad_norm': 5.549407958984375, 'learning_rate': 1.6672212978369386e-05, 'epoch': 0.67}\n",
      "{'loss': 2.8524, 'grad_norm': 5.880794048309326, 'learning_rate': 1.6464226289517473e-05, 'epoch': 0.71}\n",
      "{'loss': 2.7021, 'grad_norm': 5.726853370666504, 'learning_rate': 1.625623960066556e-05, 'epoch': 0.75}\n",
      "{'loss': 2.5918, 'grad_norm': 5.579683780670166, 'learning_rate': 1.6048252911813643e-05, 'epoch': 0.79}\n",
      "{'loss': 2.5632, 'grad_norm': 5.072190761566162, 'learning_rate': 1.584026622296173e-05, 'epoch': 0.83}\n"
     ]
    },
    {
     "data": {
      "application/vnd.jupyter.widget-view+json": {
       "model_id": "d5743416fe9941029862f096ddfb6f34",
       "version_major": 2,
       "version_minor": 0
      },
      "text/plain": [
       "  0%|          | 0/425 [00:00<?, ?it/s]"
      ]
     },
     "metadata": {},
     "output_type": "display_data"
    },
    {
     "name": "stdout",
     "output_type": "stream",
     "text": [
      "{'eval_loss': 2.121858596801758, 'eval_accuracy': 0.7091069849690539, 'eval_runtime': 98.5699, 'eval_samples_per_second': 34.422, 'eval_steps_per_second': 4.312, 'epoch': 0.83}\n",
      "{'loss': 2.4382, 'grad_norm': 5.9134931564331055, 'learning_rate': 1.5632279534109817e-05, 'epoch': 0.87}\n",
      "{'loss': 2.402, 'grad_norm': 6.0154948234558105, 'learning_rate': 1.5424292845257904e-05, 'epoch': 0.92}\n",
      "{'loss': 2.3217, 'grad_norm': 5.543903827667236, 'learning_rate': 1.521630615640599e-05, 'epoch': 0.96}\n",
      "{'loss': 2.2837, 'grad_norm': 5.2080397605896, 'learning_rate': 1.5008319467554078e-05, 'epoch': 1.0}\n",
      "{'loss': 2.1985, 'grad_norm': 5.256932735443115, 'learning_rate': 1.4800332778702165e-05, 'epoch': 1.04}\n",
      "{'loss': 2.1385, 'grad_norm': 5.332975387573242, 'learning_rate': 1.4592346089850251e-05, 'epoch': 1.08}\n",
      "{'loss': 2.0916, 'grad_norm': 5.111219882965088, 'learning_rate': 1.4384359400998338e-05, 'epoch': 1.12}\n",
      "{'loss': 1.976, 'grad_norm': 5.367706775665283, 'learning_rate': 1.4176372712146425e-05, 'epoch': 1.16}\n",
      "{'loss': 1.92, 'grad_norm': 5.6765031814575195, 'learning_rate': 1.396838602329451e-05, 'epoch': 1.21}\n",
      "{'loss': 1.9094, 'grad_norm': 5.43219518661499, 'learning_rate': 1.3760399334442597e-05, 'epoch': 1.25}\n"
     ]
    },
    {
     "data": {
      "application/vnd.jupyter.widget-view+json": {
       "model_id": "b47c0f55d7d144969c741bdc03530ec8",
       "version_major": 2,
       "version_minor": 0
      },
      "text/plain": [
       "  0%|          | 0/425 [00:00<?, ?it/s]"
      ]
     },
     "metadata": {},
     "output_type": "display_data"
    },
    {
     "name": "stdout",
     "output_type": "stream",
     "text": [
      "{'eval_loss': 1.2828490734100342, 'eval_accuracy': 0.8110816386678456, 'eval_runtime': 100.6042, 'eval_samples_per_second': 33.726, 'eval_steps_per_second': 4.224, 'epoch': 1.25}\n",
      "{'loss': 1.8622, 'grad_norm': 5.612839698791504, 'learning_rate': 1.3552412645590683e-05, 'epoch': 1.29}\n",
      "{'loss': 1.8323, 'grad_norm': 5.108901023864746, 'learning_rate': 1.334442595673877e-05, 'epoch': 1.33}\n",
      "{'loss': 1.7724, 'grad_norm': 4.776648044586182, 'learning_rate': 1.3136439267886857e-05, 'epoch': 1.37}\n",
      "{'loss': 1.7537, 'grad_norm': 5.133295059204102, 'learning_rate': 1.2928452579034942e-05, 'epoch': 1.41}\n",
      "{'loss': 1.7555, 'grad_norm': 5.432247161865234, 'learning_rate': 1.2720465890183029e-05, 'epoch': 1.46}\n",
      "{'loss': 1.6853, 'grad_norm': 5.008750915527344, 'learning_rate': 1.2512479201331116e-05, 'epoch': 1.5}\n",
      "{'loss': 1.618, 'grad_norm': 4.195282936096191, 'learning_rate': 1.2304492512479203e-05, 'epoch': 1.54}\n",
      "{'loss': 1.6522, 'grad_norm': 4.920071125030518, 'learning_rate': 1.209650582362729e-05, 'epoch': 1.58}\n",
      "{'loss': 1.5385, 'grad_norm': 4.445263385772705, 'learning_rate': 1.1888519134775376e-05, 'epoch': 1.62}\n",
      "{'loss': 1.5632, 'grad_norm': 4.332657814025879, 'learning_rate': 1.1680532445923463e-05, 'epoch': 1.66}\n"
     ]
    },
    {
     "data": {
      "application/vnd.jupyter.widget-view+json": {
       "model_id": "991183425ec449cebe794e44b487f376",
       "version_major": 2,
       "version_minor": 0
      },
      "text/plain": [
       "  0%|          | 0/425 [00:00<?, ?it/s]"
      ]
     },
     "metadata": {},
     "output_type": "display_data"
    },
    {
     "name": "stdout",
     "output_type": "stream",
     "text": [
      "{'eval_loss': 0.9160993695259094, 'eval_accuracy': 0.8508694370763337, 'eval_runtime': 103.6826, 'eval_samples_per_second': 32.725, 'eval_steps_per_second': 4.099, 'epoch': 1.66}\n",
      "{'loss': 1.4908, 'grad_norm': 4.4113030433654785, 'learning_rate': 1.1472545757071549e-05, 'epoch': 1.71}\n",
      "{'loss': 1.4725, 'grad_norm': 5.25364875793457, 'learning_rate': 1.1268718801996675e-05, 'epoch': 1.75}\n",
      "{'loss': 1.4804, 'grad_norm': 4.9652862548828125, 'learning_rate': 1.1060732113144759e-05, 'epoch': 1.79}\n",
      "{'loss': 1.4844, 'grad_norm': 4.817853927612305, 'learning_rate': 1.0852745424292845e-05, 'epoch': 1.83}\n",
      "{'loss': 1.482, 'grad_norm': 4.874576568603516, 'learning_rate': 1.0644758735440932e-05, 'epoch': 1.87}\n",
      "{'loss': 1.396, 'grad_norm': 4.0995049476623535, 'learning_rate': 1.043677204658902e-05, 'epoch': 1.91}\n",
      "{'loss': 1.4156, 'grad_norm': 5.200446605682373, 'learning_rate': 1.0228785357737106e-05, 'epoch': 1.96}\n",
      "{'loss': 1.4271, 'grad_norm': 4.3892717361450195, 'learning_rate': 1.0020798668885191e-05, 'epoch': 2.0}\n",
      "{'loss': 1.3383, 'grad_norm': 4.4479217529296875, 'learning_rate': 9.812811980033278e-06, 'epoch': 2.04}\n",
      "{'loss': 1.3414, 'grad_norm': 3.9856457710266113, 'learning_rate': 9.604825291181365e-06, 'epoch': 2.08}\n"
     ]
    },
    {
     "data": {
      "application/vnd.jupyter.widget-view+json": {
       "model_id": "89cdcad8ac574aa1b32e1ef75297aee7",
       "version_major": 2,
       "version_minor": 0
      },
      "text/plain": [
       "  0%|          | 0/425 [00:00<?, ?it/s]"
      ]
     },
     "metadata": {},
     "output_type": "display_data"
    },
    {
     "name": "stdout",
     "output_type": "stream",
     "text": [
      "{'eval_loss': 0.7763270139694214, 'eval_accuracy': 0.883878573533746, 'eval_runtime': 99.2285, 'eval_samples_per_second': 34.194, 'eval_steps_per_second': 4.283, 'epoch': 2.08}\n",
      "{'loss': 1.2825, 'grad_norm': 4.250887870788574, 'learning_rate': 9.396838602329452e-06, 'epoch': 2.12}\n",
      "{'loss': 1.2842, 'grad_norm': 4.688625812530518, 'learning_rate': 9.193011647254575e-06, 'epoch': 2.16}\n",
      "{'loss': 1.3053, 'grad_norm': 5.032777309417725, 'learning_rate': 8.985024958402662e-06, 'epoch': 2.2}\n",
      "{'loss': 1.2343, 'grad_norm': 4.056350231170654, 'learning_rate': 8.777038269550749e-06, 'epoch': 2.25}\n",
      "{'loss': 1.2442, 'grad_norm': 3.8950657844543457, 'learning_rate': 8.569051580698836e-06, 'epoch': 2.29}\n",
      "{'loss': 1.1886, 'grad_norm': 4.147289752960205, 'learning_rate': 8.361064891846923e-06, 'epoch': 2.33}\n",
      "{'loss': 1.1743, 'grad_norm': 4.314910888671875, 'learning_rate': 8.15307820299501e-06, 'epoch': 2.37}\n",
      "{'loss': 1.1603, 'grad_norm': 4.579259872436523, 'learning_rate': 7.945091514143095e-06, 'epoch': 2.41}\n",
      "{'loss': 1.174, 'grad_norm': 3.4969966411590576, 'learning_rate': 7.737104825291182e-06, 'epoch': 2.45}\n",
      "{'loss': 1.2247, 'grad_norm': 5.25698709487915, 'learning_rate': 7.529118136439268e-06, 'epoch': 2.5}\n"
     ]
    },
    {
     "data": {
      "application/vnd.jupyter.widget-view+json": {
       "model_id": "ab1ed3d08e4d4171b6d8bd0db0e20893",
       "version_major": 2,
       "version_minor": 0
      },
      "text/plain": [
       "  0%|          | 0/425 [00:00<?, ?it/s]"
      ]
     },
     "metadata": {},
     "output_type": "display_data"
    },
    {
     "name": "stdout",
     "output_type": "stream",
     "text": [
      "{'eval_loss': 0.6458141207695007, 'eval_accuracy': 0.8779840848806366, 'eval_runtime': 99.283, 'eval_samples_per_second': 34.175, 'eval_steps_per_second': 4.281, 'epoch': 2.5}\n",
      "{'loss': 1.1177, 'grad_norm': 3.9987547397613525, 'learning_rate': 7.321131447587355e-06, 'epoch': 2.54}\n",
      "{'loss': 1.1923, 'grad_norm': 3.7123782634735107, 'learning_rate': 7.113144758735442e-06, 'epoch': 2.58}\n",
      "{'loss': 1.1569, 'grad_norm': 4.338387489318848, 'learning_rate': 6.905158069883529e-06, 'epoch': 2.62}\n",
      "{'loss': 1.168, 'grad_norm': 3.7251038551330566, 'learning_rate': 6.697171381031614e-06, 'epoch': 2.66}\n",
      "{'loss': 1.1476, 'grad_norm': 4.916956424713135, 'learning_rate': 6.489184692179701e-06, 'epoch': 2.7}\n",
      "{'loss': 1.2334, 'grad_norm': 4.64348840713501, 'learning_rate': 6.281198003327787e-06, 'epoch': 2.75}\n",
      "{'loss': 1.1498, 'grad_norm': 3.95563006401062, 'learning_rate': 6.073211314475874e-06, 'epoch': 2.79}\n",
      "{'loss': 1.1062, 'grad_norm': 3.5478627681732178, 'learning_rate': 5.865224625623961e-06, 'epoch': 2.83}\n",
      "{'loss': 1.095, 'grad_norm': 3.383086681365967, 'learning_rate': 5.657237936772048e-06, 'epoch': 2.87}\n",
      "{'loss': 1.183, 'grad_norm': 3.9330389499664307, 'learning_rate': 5.449251247920133e-06, 'epoch': 2.91}\n"
     ]
    },
    {
     "data": {
      "application/vnd.jupyter.widget-view+json": {
       "model_id": "3139798759da425d8f19bff1ffc0465b",
       "version_major": 2,
       "version_minor": 0
      },
      "text/plain": [
       "  0%|          | 0/425 [00:00<?, ?it/s]"
      ]
     },
     "metadata": {},
     "output_type": "display_data"
    },
    {
     "name": "stdout",
     "output_type": "stream",
     "text": [
      "{'eval_loss': 0.5498448610305786, 'eval_accuracy': 0.8968464485705865, 'eval_runtime': 98.7332, 'eval_samples_per_second': 34.365, 'eval_steps_per_second': 4.305, 'epoch': 2.91}\n",
      "{'loss': 1.0796, 'grad_norm': 4.114582538604736, 'learning_rate': 5.24126455906822e-06, 'epoch': 2.95}\n",
      "{'loss': 1.0766, 'grad_norm': 3.5651228427886963, 'learning_rate': 5.033277870216307e-06, 'epoch': 3.0}\n",
      "{'loss': 1.1, 'grad_norm': 3.208573818206787, 'learning_rate': 4.825291181364393e-06, 'epoch': 3.04}\n",
      "{'loss': 1.0945, 'grad_norm': 3.526221990585327, 'learning_rate': 4.617304492512479e-06, 'epoch': 3.08}\n",
      "{'loss': 1.0493, 'grad_norm': 3.9107208251953125, 'learning_rate': 4.409317803660566e-06, 'epoch': 3.12}\n",
      "{'loss': 1.1119, 'grad_norm': 4.45220422744751, 'learning_rate': 4.201331114808653e-06, 'epoch': 3.16}\n",
      "{'loss': 1.1393, 'grad_norm': 4.584967136383057, 'learning_rate': 3.993344425956739e-06, 'epoch': 3.2}\n",
      "{'loss': 1.0492, 'grad_norm': 3.571671962738037, 'learning_rate': 3.7853577371048255e-06, 'epoch': 3.24}\n",
      "{'loss': 1.0207, 'grad_norm': 3.743812322616577, 'learning_rate': 3.5773710482529124e-06, 'epoch': 3.29}\n",
      "{'loss': 1.0145, 'grad_norm': 5.233938217163086, 'learning_rate': 3.3693843594009985e-06, 'epoch': 3.33}\n"
     ]
    },
    {
     "data": {
      "application/vnd.jupyter.widget-view+json": {
       "model_id": "546a05ec721b480488d19744eb347a35",
       "version_major": 2,
       "version_minor": 0
      },
      "text/plain": [
       "  0%|          | 0/425 [00:00<?, ?it/s]"
      ]
     },
     "metadata": {},
     "output_type": "display_data"
    },
    {
     "name": "stdout",
     "output_type": "stream",
     "text": [
      "{'eval_loss': 0.5120459794998169, 'eval_accuracy': 0.8921308576480991, 'eval_runtime': 97.4375, 'eval_samples_per_second': 34.822, 'eval_steps_per_second': 4.362, 'epoch': 3.33}\n",
      "{'loss': 1.0491, 'grad_norm': 3.22322678565979, 'learning_rate': 3.161397670549085e-06, 'epoch': 3.37}\n",
      "{'loss': 1.0353, 'grad_norm': 4.750710964202881, 'learning_rate': 2.953410981697172e-06, 'epoch': 3.41}\n",
      "{'loss': 1.0419, 'grad_norm': 3.4684438705444336, 'learning_rate': 2.745424292845258e-06, 'epoch': 3.45}\n",
      "{'loss': 1.0257, 'grad_norm': 4.880771636962891, 'learning_rate': 2.5374376039933445e-06, 'epoch': 3.49}\n",
      "{'loss': 1.0237, 'grad_norm': 4.533999443054199, 'learning_rate': 2.329450915141431e-06, 'epoch': 3.54}\n",
      "{'loss': 1.0751, 'grad_norm': 3.783235549926758, 'learning_rate': 2.1214642262895175e-06, 'epoch': 3.58}\n",
      "{'loss': 1.0989, 'grad_norm': 3.2126340866088867, 'learning_rate': 1.913477537437604e-06, 'epoch': 3.62}\n",
      "{'loss': 1.0961, 'grad_norm': 4.03369140625, 'learning_rate': 1.7054908485856905e-06, 'epoch': 3.66}\n",
      "{'loss': 1.0652, 'grad_norm': 3.2417492866516113, 'learning_rate': 1.4975041597337772e-06, 'epoch': 3.7}\n",
      "{'loss': 1.0901, 'grad_norm': 3.942270278930664, 'learning_rate': 1.2895174708818635e-06, 'epoch': 3.74}\n"
     ]
    },
    {
     "data": {
      "application/vnd.jupyter.widget-view+json": {
       "model_id": "414546ebd49440018276cb1a5177cd65",
       "version_major": 2,
       "version_minor": 0
      },
      "text/plain": [
       "  0%|          | 0/425 [00:00<?, ?it/s]"
      ]
     },
     "metadata": {},
     "output_type": "display_data"
    },
    {
     "name": "stdout",
     "output_type": "stream",
     "text": [
      "{'eval_loss': 0.5090899467468262, 'eval_accuracy': 0.8997936928971412, 'eval_runtime': 97.018, 'eval_samples_per_second': 34.973, 'eval_steps_per_second': 4.381, 'epoch': 3.74}\n",
      "{'loss': 1.0635, 'grad_norm': 4.326874732971191, 'learning_rate': 1.0815307820299502e-06, 'epoch': 3.79}\n",
      "{'loss': 1.0724, 'grad_norm': 4.009945869445801, 'learning_rate': 8.735440931780367e-07, 'epoch': 3.83}\n",
      "{'loss': 1.0586, 'grad_norm': 4.6193952560424805, 'learning_rate': 6.655574043261231e-07, 'epoch': 3.87}\n",
      "{'loss': 1.1242, 'grad_norm': 3.9450597763061523, 'learning_rate': 4.575707154742097e-07, 'epoch': 3.91}\n",
      "{'loss': 1.0393, 'grad_norm': 3.596954584121704, 'learning_rate': 2.495840266222962e-07, 'epoch': 3.95}\n",
      "{'loss': 1.0266, 'grad_norm': 3.776167154312134, 'learning_rate': 4.575707154742097e-08, 'epoch': 3.99}\n",
      "{'train_runtime': 2941.7217, 'train_samples_per_second': 26.144, 'train_steps_per_second': 1.634, 'train_loss': 1.9344128850295816, 'epoch': 4.0}\n"
     ]
    }
   ],
   "source": [
    "#Final code \n",
    "\n",
    "from datasets import load_dataset\n",
    "from transformers import (\n",
    "    AutoImageProcessor, \n",
    "    AutoModelForImageClassification, \n",
    "    TrainingArguments, \n",
    "    Trainer\n",
    ")\n",
    "from torchvision.transforms import (\n",
    "    CenterCrop, Compose, Normalize, \n",
    "    RandomHorizontalFlip, RandomResizedCrop, \n",
    "    Resize, ToTensor\n",
    ")\n",
    "import torch\n",
    "import numpy as np\n",
    "\n",
    "# Load the original dataset\n",
    "ds = load_dataset(\"imagefolder\", data_dir='training_set')\n",
    "data = ds[\"train\"].train_test_split(test_size=0.15)\n",
    "\n",
    "# Get original labels\n",
    "original_labels = data[\"train\"].features[\"label\"].names\n",
    "\n",
    "# Define the total number of classes (original + new)\n",
    "num_total_classes = 550\n",
    "\n",
    "# Create label mappings\n",
    "label2id = {label: str(i) for i, label in enumerate(original_labels)}\n",
    "id2label = {str(i): label for i, label in enumerate(original_labels)}\n",
    "\n",
    "# Add placeholder labels for additional classes\n",
    "for i in range(len(original_labels), num_total_classes):\n",
    "    label2id[f\"New_Class_{i}\"] = str(i)\n",
    "    id2label[str(i)] = f\"New_Class_{i}\"\n",
    "\n",
    "# Load pre-trained model and image processor\n",
    "model_name_or_path = 'dennisjooo/Birds-Classifier-EfficientNetB2'\n",
    "feature_extractor = AutoImageProcessor.from_pretrained(model_name_or_path)\n",
    "\n",
    "# Create transformations\n",
    "image_size = 224\n",
    "normalize = Normalize(mean=feature_extractor.image_mean, std=feature_extractor.image_std)\n",
    "\n",
    "train_transforms = Compose([\n",
    "    RandomResizedCrop(image_size),\n",
    "    RandomHorizontalFlip(),\n",
    "    ToTensor(),\n",
    "    normalize,\n",
    "])\n",
    "\n",
    "val_transforms = Compose([\n",
    "    Resize(image_size),\n",
    "    CenterCrop(image_size),\n",
    "    ToTensor(),\n",
    "    normalize,\n",
    "])\n",
    "\n",
    "def preprocess_train(example_batch):\n",
    "    example_batch[\"pixel_values\"] = [\n",
    "        train_transforms(image.convert(\"RGB\")) for image in example_batch[\"image\"]\n",
    "    ]\n",
    "    return example_batch\n",
    "\n",
    "def preprocess_val(example_batch):\n",
    "    example_batch[\"pixel_values\"] = [\n",
    "        val_transforms(image.convert(\"RGB\")) for image in example_batch[\"image\"]\n",
    "    ]\n",
    "    return example_batch\n",
    "\n",
    "# Set transformations\n",
    "train_ds = data[\"train\"]\n",
    "val_ds = data[\"test\"]\n",
    "train_ds.set_transform(preprocess_train)\n",
    "val_ds.set_transform(preprocess_val)\n",
    "\n",
    "# Load model with expanded classifier\n",
    "model = AutoModelForImageClassification.from_pretrained(\n",
    "    model_name_or_path,\n",
    "    num_labels=num_total_classes,\n",
    "    id2label=id2label,\n",
    "    label2id=label2id,\n",
    "    ignore_mismatched_sizes=True\n",
    ")\n",
    "\n",
    "# Initialize additional classifier weights\n",
    "with torch.no_grad():\n",
    "    # Preserve original weights\n",
    "    original_weights = model.classifier.weight.data[:len(original_labels)]\n",
    "    original_bias = model.classifier.bias.data[:len(original_labels)]\n",
    "    \n",
    "    # Reinitialize full classifier\n",
    "    model.classifier = torch.nn.Linear(\n",
    "        model.classifier.in_features, \n",
    "        num_total_classes\n",
    "    )\n",
    "    \n",
    "    # Copy original weights\n",
    "    model.classifier.weight.data[:len(original_labels)] = original_weights\n",
    "    model.classifier.bias.data[:len(original_labels)] = original_bias\n",
    "    \n",
    "    # Initialize new weights with Xavier uniform\n",
    "    torch.nn.init.xavier_uniform_(\n",
    "        model.classifier.weight.data[len(original_labels):]\n",
    "    )\n",
    "    torch.nn.init.zeros_(\n",
    "        model.classifier.bias.data[len(original_labels):]\n",
    "    )\n",
    "\n",
    "# Training arguments\n",
    "training_args = TrainingArguments(\n",
    "    'finetuned-birds-classifier-550-species',\n",
    "    per_device_train_batch_size=16,\n",
    "    evaluation_strategy=\"steps\",\n",
    "    num_train_epochs=4,\n",
    "    fp16=True,\n",
    "    save_steps=500,\n",
    "    eval_steps=500,\n",
    "    logging_steps=50,\n",
    "    learning_rate=2e-5,\n",
    "    save_total_limit=2,\n",
    "    remove_unused_columns=False,\n",
    "    push_to_hub=False,\n",
    "    report_to='tensorboard',\n",
    "    load_best_model_at_end=True\n",
    ")\n",
    "\n",
    "# Metrics computation\n",
    "def compute_metrics(eval_pred):\n",
    "    predictions = np.argmax(eval_pred.predictions, axis=1)\n",
    "    return {'accuracy': (predictions == eval_pred.label_ids).mean()}\n",
    "\n",
    "# Data collator\n",
    "def collate_fn(batch):\n",
    "    return {\n",
    "        'pixel_values': torch.stack([x['pixel_values'] for x in batch]),\n",
    "        'labels': torch.tensor([x['label'] for x in batch])\n",
    "    }\n",
    "\n",
    "# Trainer\n",
    "trainer = Trainer(\n",
    "    model,\n",
    "    training_args,\n",
    "    train_dataset=train_ds,\n",
    "    eval_dataset=val_ds,\n",
    "    compute_metrics=compute_metrics,\n",
    "    data_collator=collate_fn\n",
    ")\n",
    "\n",
    "# Train the model\n",
    "trainer.train()\n",
    "\n",
    "# Save the model\n",
    "trainer.save_model('finetuned-birds-classifier-550-species')"
   ]
  },
  {
   "cell_type": "code",
   "execution_count": null,
   "metadata": {},
   "outputs": [],
   "source": []
  }
 ],
 "metadata": {
  "kernelspec": {
   "display_name": "env",
   "language": "python",
   "name": "python3"
  },
  "language_info": {
   "codemirror_mode": {
    "name": "ipython",
    "version": 3
   },
   "file_extension": ".py",
   "mimetype": "text/x-python",
   "name": "python",
   "nbconvert_exporter": "python",
   "pygments_lexer": "ipython3",
   "version": "3.11.11"
  }
 },
 "nbformat": 4,
 "nbformat_minor": 2
}
